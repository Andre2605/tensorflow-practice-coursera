{
  "cells": [
    {
      "cell_type": "markdown",
      "metadata": {
        "id": "bFWbEb6uGbN-"
      },
      "source": [
        "# Week 4: Predicting the next word\n",
        "\n",
        "Welcome to this assignment! During this week you saw how to create a model that will predict the next word in a text sequence, now you will implement such model and train it using a corpus of Shakespeare's sonnets, while also creating some helper functions to pre-process the data.\n",
        "\n",
        "\n",
        "Let's get started!"
      ]
    },
    {
      "cell_type": "code",
      "execution_count": 63,
      "metadata": {
        "id": "BOwsuGQQY9OL"
      },
      "outputs": [],
      "source": [
        "import numpy as np \n",
        "import matplotlib.pyplot as plt\n",
        "from tensorflow.keras.models import Sequential\n",
        "from tensorflow.keras.utils import to_categorical \n",
        "from tensorflow.keras.preprocessing.text import Tokenizer\n",
        "from tensorflow.keras.preprocessing.sequence import pad_sequences\n",
        "from tensorflow.keras.layers import Embedding, LSTM, Dense, Bidirectional, Dropout"
      ]
    },
    {
      "cell_type": "markdown",
      "metadata": {
        "id": "BTxqlHqKHzhr"
      },
      "source": [
        "For this assignment you will be using the [Shakespeare Sonnets Dataset](https://www.opensourceshakespeare.org/views/sonnets/sonnet_view.php?range=viewrange&sonnetrange1=1&sonnetrange2=154), which contains more than 2000 lines of text extracted from Shakespeare's sonnets."
      ]
    },
    {
      "cell_type": "code",
      "execution_count": 2,
      "metadata": {
        "id": "WZ4qOUzujMP6",
        "colab": {
          "base_uri": "https://localhost:8080/"
        },
        "outputId": "603ddc1e-6d2a-49f0-bc53-762bb95d470a"
      },
      "outputs": [
        {
          "output_type": "stream",
          "name": "stdout",
          "text": [
            "Downloading...\n",
            "From: https://drive.google.com/uc?id=108jAePKK4R3BVYBbYJZ32JWUwxeMg20K\n",
            "To: /content/sonnets.txt\n",
            "\r  0% 0.00/93.6k [00:00<?, ?B/s]\r100% 93.6k/93.6k [00:00<00:00, 42.8MB/s]\n"
          ]
        }
      ],
      "source": [
        "# sonnets.txt\n",
        "!gdown --id 108jAePKK4R3BVYBbYJZ32JWUwxeMg20K"
      ]
    },
    {
      "cell_type": "code",
      "execution_count": 3,
      "metadata": {
        "id": "Pfd-nYKij5yY",
        "colab": {
          "base_uri": "https://localhost:8080/"
        },
        "outputId": "0cb4cc56-53e6-4882-cc9a-5b0c7721024a"
      },
      "outputs": [
        {
          "output_type": "stream",
          "name": "stdout",
          "text": [
            "There are 2159 lines of sonnets\n",
            "\n",
            "The first 5 lines look like this:\n",
            "\n",
            "from fairest creatures we desire increase,\n",
            "that thereby beauty's rose might never die,\n",
            "but as the riper should by time decease,\n",
            "his tender heir might bear his memory:\n",
            "but thou, contracted to thine own bright eyes,\n"
          ]
        }
      ],
      "source": [
        "# Define path for file with sonnets\n",
        "SONNETS_FILE = './sonnets.txt'\n",
        "\n",
        "# Read the data\n",
        "with open('./sonnets.txt') as f:\n",
        "    data = f.read()\n",
        "\n",
        "# Convert to lower case and save as a list\n",
        "corpus = data.lower().split(\"\\n\")\n",
        "\n",
        "print(f\"There are {len(corpus)} lines of sonnets\\n\")\n",
        "print(f\"The first 5 lines look like this:\\n\")\n",
        "for i in range(5):\n",
        "  print(corpus[i])"
      ]
    },
    {
      "cell_type": "markdown",
      "metadata": {
        "id": "imB15zrSNhA1"
      },
      "source": [
        "## Tokenizing the text\n",
        "\n",
        "Now fit the Tokenizer to the corpus and save the total number of words."
      ]
    },
    {
      "cell_type": "code",
      "execution_count": 4,
      "metadata": {
        "id": "AAhM_qAZk0o5"
      },
      "outputs": [],
      "source": [
        "tokenizer = Tokenizer()\n",
        "tokenizer.fit_on_texts(corpus)\n",
        "total_words = len(tokenizer.word_index) + 1"
      ]
    },
    {
      "cell_type": "code",
      "source": [
        "# len(tokenizer.word_index)"
      ],
      "metadata": {
        "colab": {
          "base_uri": "https://localhost:8080/"
        },
        "id": "ge3jYMltBgqg",
        "outputId": "5162228f-1c88-4eec-bfb8-f2dd681cfc89"
      },
      "execution_count": 54,
      "outputs": [
        {
          "output_type": "execute_result",
          "data": {
            "text/plain": [
              "3210"
            ]
          },
          "metadata": {},
          "execution_count": 54
        }
      ]
    },
    {
      "cell_type": "code",
      "source": [
        "# tokenizer.word_index\n",
        "# dict_new = tokenizer.word_index\n",
        "# alpha_dict = tokenizer.word_index\n",
        "\n",
        "# new_value = max(alpha_dict, key=alpha_dict.get)\n",
        "# print(\"Highest value from dictionary:\",new_value)"
      ],
      "metadata": {
        "colab": {
          "base_uri": "https://localhost:8080/"
        },
        "id": "V4lsJk98ALLX",
        "outputId": "7bd09233-b47b-4206-b07e-8c925c9f6935"
      },
      "execution_count": 51,
      "outputs": [
        {
          "output_type": "stream",
          "name": "stdout",
          "text": [
            "Highest value from dictionary: cools\n"
          ]
        }
      ]
    },
    {
      "cell_type": "code",
      "source": [
        "# tokenizer.word_index['cools']"
      ],
      "metadata": {
        "colab": {
          "base_uri": "https://localhost:8080/"
        },
        "id": "UC96Fg83Ay5t",
        "outputId": "b05918fa-9220-4429-e56b-c2e7c8390416"
      },
      "execution_count": 52,
      "outputs": [
        {
          "output_type": "execute_result",
          "data": {
            "text/plain": [
              "3210"
            ]
          },
          "metadata": {},
          "execution_count": 52
        }
      ]
    },
    {
      "cell_type": "code",
      "source": [
        "\n",
        "# # function to return key for any value\n",
        "# def get_key(val):\n",
        "#     for key, value in my_dict.items():\n",
        "#          if val == value:\n",
        "#              return key\n",
        " \n",
        "#     return \"key doesn't exist\"\n",
        " \n",
        "# # Driver Code\n",
        " \n",
        "# my_dict =tokenizer.word_index\n",
        " \n",
        "# print(get_key(0))\n",
        "# print(get_key(1))"
      ],
      "metadata": {
        "colab": {
          "base_uri": "https://localhost:8080/"
        },
        "id": "XxFEfsKH-kxl",
        "outputId": "ee5436a9-569e-4600-a738-dbde7f24c698"
      },
      "execution_count": 47,
      "outputs": [
        {
          "output_type": "stream",
          "name": "stdout",
          "text": [
            "key doesn't exist\n",
            "and\n"
          ]
        }
      ]
    },
    {
      "cell_type": "markdown",
      "metadata": {
        "id": "77-0sA46OETa"
      },
      "source": [
        "When converting the text into sequences you can use the `texts_to_sequences` method as you have done throughout this course.\n",
        "\n",
        "In the next graded function you will need to process this corpus one line at a time. Given this, it is important to keep in mind that the way you are feeding the data unto this method affects the result. Check the following example to make this clearer.\n",
        "\n",
        "The first example of the corpus is a string and looks like this:"
      ]
    },
    {
      "cell_type": "code",
      "execution_count": 5,
      "metadata": {
        "id": "tqhPxdeXlfjh",
        "colab": {
          "base_uri": "https://localhost:8080/",
          "height": 35
        },
        "outputId": "d8a5e119-27a4-4974-8a25-460c70f4014b"
      },
      "outputs": [
        {
          "output_type": "execute_result",
          "data": {
            "text/plain": [
              "'from fairest creatures we desire increase,'"
            ],
            "application/vnd.google.colaboratory.intrinsic+json": {
              "type": "string"
            }
          },
          "metadata": {},
          "execution_count": 5
        }
      ],
      "source": [
        "corpus[0]"
      ]
    },
    {
      "cell_type": "markdown",
      "metadata": {
        "id": "XFMP4z11O3os"
      },
      "source": [
        "If you pass this text directly into the `texts_to_sequences` method you will get an unexpected result:"
      ]
    },
    {
      "cell_type": "code",
      "execution_count": 6,
      "metadata": {
        "id": "EMSEhmbzNZCE",
        "colab": {
          "base_uri": "https://localhost:8080/"
        },
        "outputId": "f782aa3c-0ab7-4a5c-95a2-5e86fbd6d57a"
      },
      "outputs": [
        {
          "output_type": "execute_result",
          "data": {
            "text/plain": [
              "[[],\n",
              " [],\n",
              " [58],\n",
              " [],\n",
              " [],\n",
              " [],\n",
              " [17],\n",
              " [6],\n",
              " [],\n",
              " [],\n",
              " [],\n",
              " [],\n",
              " [],\n",
              " [],\n",
              " [],\n",
              " [],\n",
              " [17],\n",
              " [],\n",
              " [],\n",
              " [],\n",
              " [],\n",
              " [],\n",
              " [],\n",
              " [],\n",
              " [],\n",
              " [],\n",
              " [],\n",
              " [],\n",
              " [],\n",
              " [6],\n",
              " [],\n",
              " [],\n",
              " [],\n",
              " [6],\n",
              " [],\n",
              " [],\n",
              " [],\n",
              " [],\n",
              " [17],\n",
              " [],\n",
              " [],\n",
              " []]"
            ]
          },
          "metadata": {},
          "execution_count": 6
        }
      ],
      "source": [
        "tokenizer.texts_to_sequences(corpus[0])"
      ]
    },
    {
      "cell_type": "markdown",
      "metadata": {
        "id": "pPZmZtpEPEeI"
      },
      "source": [
        "This happened because `texts_to_sequences` expects a list and you are providing a string. However a string is still and `iterable` in Python so you will get the word index of every character in the string.\n",
        "\n",
        "Instead you need to place the example whithin a list before passing it to the method:"
      ]
    },
    {
      "cell_type": "code",
      "execution_count": 7,
      "metadata": {
        "id": "Qmgo-vXhk4nd",
        "colab": {
          "base_uri": "https://localhost:8080/"
        },
        "outputId": "9f8543b1-2529-49c7-8f46-115e06402b71"
      },
      "outputs": [
        {
          "output_type": "execute_result",
          "data": {
            "text/plain": [
              "[[34, 417, 877, 166, 213, 517]]"
            ]
          },
          "metadata": {},
          "execution_count": 7
        }
      ],
      "source": [
        "tokenizer.texts_to_sequences([corpus[0]])"
      ]
    },
    {
      "cell_type": "markdown",
      "metadata": {
        "id": "0DU7wK-eQ5dc"
      },
      "source": [
        "Notice that you received the sequence wrapped inside a list so in order to get only the desired sequence you need to explicitly get the first item in the list like this:"
      ]
    },
    {
      "cell_type": "code",
      "execution_count": 8,
      "metadata": {
        "id": "kpTy8WmIQ57P",
        "colab": {
          "base_uri": "https://localhost:8080/"
        },
        "outputId": "3cc0ea68-eeba-4baa-a1ca-f9b335c58e11"
      },
      "outputs": [
        {
          "output_type": "execute_result",
          "data": {
            "text/plain": [
              "[34, 417, 877, 166, 213, 517]"
            ]
          },
          "metadata": {},
          "execution_count": 8
        }
      ],
      "source": [
        "tokenizer.texts_to_sequences([corpus[0]])[0]"
      ]
    },
    {
      "cell_type": "markdown",
      "metadata": {
        "id": "-oqy9KjXRJ9A"
      },
      "source": [
        "## Generating n_grams\n",
        "\n",
        "Now complete the `n_gram_seqs` function below. This function receives the fitted tokenizer and the corpus (which is a list of strings) and should return a list containing the `n_gram` sequences for each line in the corpus:"
      ]
    },
    {
      "cell_type": "code",
      "execution_count": 21,
      "metadata": {
        "id": "iy4baJMDl6kj"
      },
      "outputs": [],
      "source": [
        "# GRADED FUNCTION: n_gram_seqs\n",
        "def n_gram_seqs(corpus, tokenizer):\n",
        "\tinput_sequences = []\n",
        "\n",
        "\t### START CODE HERE\n",
        "\tfor line in corpus:\n",
        "\n",
        "\t# Tokenize the current line\n",
        "\t\ttoken_list = tokenizer.texts_to_sequences([line])[0]\n",
        "\n",
        "\t# Loop over the line several times to generate the subphrases\n",
        "\t\tfor i in range(1, len(token_list)):\n",
        "\t\t\t\n",
        "\t\t\t# Generate the subphrase\n",
        "\t\t\tn_gram_sequence = token_list[:i+1]\n",
        "\n",
        "\t\t\t# Append the subphrase to the sequences list\n",
        "\t\t\tinput_sequences.append(n_gram_sequence)\n",
        "\t### END CODE HERE\n",
        "\t \n",
        "\treturn input_sequences"
      ]
    },
    {
      "cell_type": "code",
      "execution_count": 22,
      "metadata": {
        "id": "DlKqW2pfM7G3",
        "colab": {
          "base_uri": "https://localhost:8080/"
        },
        "outputId": "dbaaa545-4fc9-41b6-91f8-866773b6bdd6"
      },
      "outputs": [
        {
          "output_type": "stream",
          "name": "stdout",
          "text": [
            "n_gram sequences for first example look like this:\n",
            "\n"
          ]
        },
        {
          "output_type": "execute_result",
          "data": {
            "text/plain": [
              "[[34, 417],\n",
              " [34, 417, 877],\n",
              " [34, 417, 877, 166],\n",
              " [34, 417, 877, 166, 213],\n",
              " [34, 417, 877, 166, 213, 517]]"
            ]
          },
          "metadata": {},
          "execution_count": 22
        }
      ],
      "source": [
        "# Test your function with one example\n",
        "first_example_sequence = n_gram_seqs([corpus[0]], tokenizer)\n",
        "\n",
        "print(\"n_gram sequences for first example look like this:\\n\")\n",
        "first_example_sequence"
      ]
    },
    {
      "cell_type": "markdown",
      "metadata": {
        "id": "0HL8Ug6UU0Jt"
      },
      "source": [
        "**Expected Output:**\n",
        "\n",
        "```\n",
        "n_gram sequences for first example look like this:\n",
        "\n",
        "[[34, 417],\n",
        " [34, 417, 877],\n",
        " [34, 417, 877, 166],\n",
        " [34, 417, 877, 166, 213],\n",
        " [34, 417, 877, 166, 213, 517]]\n",
        "```"
      ]
    },
    {
      "cell_type": "code",
      "execution_count": 23,
      "metadata": {
        "id": "wtPpCcBjNc4c",
        "colab": {
          "base_uri": "https://localhost:8080/"
        },
        "outputId": "489f056a-2ae2-4f6c-8bba-4a9db31ab7e4"
      },
      "outputs": [
        {
          "output_type": "stream",
          "name": "stdout",
          "text": [
            "n_gram sequences for next 3 examples look like this:\n",
            "\n"
          ]
        },
        {
          "output_type": "execute_result",
          "data": {
            "text/plain": [
              "[[8, 878],\n",
              " [8, 878, 134],\n",
              " [8, 878, 134, 351],\n",
              " [8, 878, 134, 351, 102],\n",
              " [8, 878, 134, 351, 102, 156],\n",
              " [8, 878, 134, 351, 102, 156, 199],\n",
              " [16, 22],\n",
              " [16, 22, 2],\n",
              " [16, 22, 2, 879],\n",
              " [16, 22, 2, 879, 61],\n",
              " [16, 22, 2, 879, 61, 30],\n",
              " [16, 22, 2, 879, 61, 30, 48],\n",
              " [16, 22, 2, 879, 61, 30, 48, 634],\n",
              " [25, 311],\n",
              " [25, 311, 635],\n",
              " [25, 311, 635, 102],\n",
              " [25, 311, 635, 102, 200],\n",
              " [25, 311, 635, 102, 200, 25],\n",
              " [25, 311, 635, 102, 200, 25, 278]]"
            ]
          },
          "metadata": {},
          "execution_count": 23
        }
      ],
      "source": [
        "# Test your function with a bigger corpus\n",
        "next_3_examples_sequence = n_gram_seqs(corpus[1:4], tokenizer)\n",
        "\n",
        "print(\"n_gram sequences for next 3 examples look like this:\\n\")\n",
        "next_3_examples_sequence"
      ]
    },
    {
      "cell_type": "markdown",
      "metadata": {
        "id": "EIzecMczU9UB"
      },
      "source": [
        "**Expected Output:**\n",
        "\n",
        "```\n",
        "n_gram sequences for next 3 examples look like this:\n",
        "\n",
        "[[8, 878],\n",
        " [8, 878, 134],\n",
        " [8, 878, 134, 351],\n",
        " [8, 878, 134, 351, 102],\n",
        " [8, 878, 134, 351, 102, 156],\n",
        " [8, 878, 134, 351, 102, 156, 199],\n",
        " [16, 22],\n",
        " [16, 22, 2],\n",
        " [16, 22, 2, 879],\n",
        " [16, 22, 2, 879, 61],\n",
        " [16, 22, 2, 879, 61, 30],\n",
        " [16, 22, 2, 879, 61, 30, 48],\n",
        " [16, 22, 2, 879, 61, 30, 48, 634],\n",
        " [25, 311],\n",
        " [25, 311, 635],\n",
        " [25, 311, 635, 102],\n",
        " [25, 311, 635, 102, 200],\n",
        " [25, 311, 635, 102, 200, 25],\n",
        " [25, 311, 635, 102, 200, 25, 278]]\n",
        "```"
      ]
    },
    {
      "cell_type": "markdown",
      "metadata": {
        "id": "dx3V_RjFWQSu"
      },
      "source": [
        "Apply the `n_gram_seqs` transformation to the whole corpus and save the maximum sequence length to use it later:"
      ]
    },
    {
      "cell_type": "code",
      "execution_count": 24,
      "metadata": {
        "id": "laMwiRUpmuSd",
        "colab": {
          "base_uri": "https://localhost:8080/"
        },
        "outputId": "ae1be5d7-ae93-4b89-cde0-7a2b7b0de6fc"
      },
      "outputs": [
        {
          "output_type": "stream",
          "name": "stdout",
          "text": [
            "n_grams of input_sequences have length: 15462\n",
            "maximum length of sequences is: 11\n"
          ]
        }
      ],
      "source": [
        "# Apply the n_gram_seqs transformation to the whole corpus\n",
        "input_sequences = n_gram_seqs(corpus, tokenizer)\n",
        "\n",
        "# Save max length \n",
        "max_sequence_len = max([len(x) for x in input_sequences])\n",
        "\n",
        "print(f\"n_grams of input_sequences have length: {len(input_sequences)}\")\n",
        "print(f\"maximum length of sequences is: {max_sequence_len}\")"
      ]
    },
    {
      "cell_type": "markdown",
      "metadata": {
        "id": "2OciMdmEdE9L"
      },
      "source": [
        "**Expected Output:**\n",
        "\n",
        "```\n",
        "n_grams of input_sequences have length: 15462\n",
        "maximum length of sequences is: 11\n",
        "```"
      ]
    },
    {
      "cell_type": "markdown",
      "metadata": {
        "id": "zHY7HroqWq12"
      },
      "source": [
        "## Add padding to the sequences\n",
        "\n",
        "Now code the `pad_seqs` function which will pad any given sequences to the desired maximum length. Notice that this function receives a list of sequences and should return a numpy array with the padded sequences: "
      ]
    },
    {
      "cell_type": "code",
      "execution_count": 25,
      "metadata": {
        "cellView": "code",
        "id": "WW1-qAZaWOhC"
      },
      "outputs": [],
      "source": [
        "# GRADED FUNCTION: pad_seqs\n",
        "def pad_seqs(input_sequences, maxlen):\n",
        "    ### START CODE HERE\n",
        "    padded_sequences = np.array(pad_sequences(input_sequences, maxlen = maxlen, padding='pre'))\n",
        "    \n",
        "    return padded_sequences\n",
        "    ### END CODE HERE"
      ]
    },
    {
      "cell_type": "code",
      "execution_count": 26,
      "metadata": {
        "id": "IqVQ0pb3YHLr",
        "colab": {
          "base_uri": "https://localhost:8080/"
        },
        "outputId": "59901820-b540-4608-e4de-26fe26680b60"
      },
      "outputs": [
        {
          "output_type": "execute_result",
          "data": {
            "text/plain": [
              "array([[  0,   0,   0,  34, 417],\n",
              "       [  0,   0,  34, 417, 877],\n",
              "       [  0,  34, 417, 877, 166],\n",
              "       [ 34, 417, 877, 166, 213],\n",
              "       [417, 877, 166, 213, 517]], dtype=int32)"
            ]
          },
          "metadata": {},
          "execution_count": 26
        }
      ],
      "source": [
        "# Test your function with the n_grams_seq of the first example\n",
        "first_padded_seq = pad_seqs(first_example_sequence, len(first_example_sequence))\n",
        "first_padded_seq"
      ]
    },
    {
      "cell_type": "markdown",
      "metadata": {
        "id": "Re_avDznXRnU"
      },
      "source": [
        "**Expected Output:**\n",
        "\n",
        "```\n",
        "array([[  0,   0,   0,  34, 417],\n",
        "       [  0,   0,  34, 417, 877],\n",
        "       [  0,  34, 417, 877, 166],\n",
        "       [ 34, 417, 877, 166, 213],\n",
        "       [417, 877, 166, 213, 517]], dtype=int32)\n",
        "```"
      ]
    },
    {
      "cell_type": "code",
      "execution_count": 27,
      "metadata": {
        "id": "j56_UCOBYzZt",
        "colab": {
          "base_uri": "https://localhost:8080/"
        },
        "outputId": "387cc91c-aad0-4900-a2ae-780c7b2adcd0"
      },
      "outputs": [
        {
          "output_type": "execute_result",
          "data": {
            "text/plain": [
              "array([[  0,   0,   0,   0,   0,   0,   8, 878],\n",
              "       [  0,   0,   0,   0,   0,   8, 878, 134],\n",
              "       [  0,   0,   0,   0,   8, 878, 134, 351],\n",
              "       [  0,   0,   0,   8, 878, 134, 351, 102],\n",
              "       [  0,   0,   8, 878, 134, 351, 102, 156],\n",
              "       [  0,   8, 878, 134, 351, 102, 156, 199],\n",
              "       [  0,   0,   0,   0,   0,   0,  16,  22],\n",
              "       [  0,   0,   0,   0,   0,  16,  22,   2],\n",
              "       [  0,   0,   0,   0,  16,  22,   2, 879],\n",
              "       [  0,   0,   0,  16,  22,   2, 879,  61],\n",
              "       [  0,   0,  16,  22,   2, 879,  61,  30],\n",
              "       [  0,  16,  22,   2, 879,  61,  30,  48],\n",
              "       [ 16,  22,   2, 879,  61,  30,  48, 634],\n",
              "       [  0,   0,   0,   0,   0,   0,  25, 311],\n",
              "       [  0,   0,   0,   0,   0,  25, 311, 635],\n",
              "       [  0,   0,   0,   0,  25, 311, 635, 102],\n",
              "       [  0,   0,   0,  25, 311, 635, 102, 200],\n",
              "       [  0,   0,  25, 311, 635, 102, 200,  25],\n",
              "       [  0,  25, 311, 635, 102, 200,  25, 278]], dtype=int32)"
            ]
          },
          "metadata": {},
          "execution_count": 27
        }
      ],
      "source": [
        "# Test your function with the n_grams_seq of the next 3 examples\n",
        "next_3_padded_seq = pad_seqs(next_3_examples_sequence, max([len(s) for s in next_3_examples_sequence]))\n",
        "next_3_padded_seq"
      ]
    },
    {
      "cell_type": "markdown",
      "metadata": {
        "id": "3rmcDluOXcIU"
      },
      "source": [
        "**Expected Output:**\n",
        "\n",
        "```\n",
        "array([[  0,   0,   0,   0,   0,   0,   8, 878],\n",
        "       [  0,   0,   0,   0,   0,   8, 878, 134],\n",
        "       [  0,   0,   0,   0,   8, 878, 134, 351],\n",
        "       [  0,   0,   0,   8, 878, 134, 351, 102],\n",
        "       [  0,   0,   8, 878, 134, 351, 102, 156],\n",
        "       [  0,   8, 878, 134, 351, 102, 156, 199],\n",
        "       [  0,   0,   0,   0,   0,   0,  16,  22],\n",
        "       [  0,   0,   0,   0,   0,  16,  22,   2],\n",
        "       [  0,   0,   0,   0,  16,  22,   2, 879],\n",
        "       [  0,   0,   0,  16,  22,   2, 879,  61],\n",
        "       [  0,   0,  16,  22,   2, 879,  61,  30],\n",
        "       [  0,  16,  22,   2, 879,  61,  30,  48],\n",
        "       [ 16,  22,   2, 879,  61,  30,  48, 634],\n",
        "       [  0,   0,   0,   0,   0,   0,  25, 311],\n",
        "       [  0,   0,   0,   0,   0,  25, 311, 635],\n",
        "       [  0,   0,   0,   0,  25, 311, 635, 102],\n",
        "       [  0,   0,   0,  25, 311, 635, 102, 200],\n",
        "       [  0,   0,  25, 311, 635, 102, 200,  25],\n",
        "       [  0,  25, 311, 635, 102, 200,  25, 278]], dtype=int32)\n",
        "```"
      ]
    },
    {
      "cell_type": "code",
      "execution_count": 28,
      "metadata": {
        "id": "rgK-Q_micEYA",
        "colab": {
          "base_uri": "https://localhost:8080/"
        },
        "outputId": "4b7f235e-2eb9-448e-f525-95a7630aee01"
      },
      "outputs": [
        {
          "output_type": "stream",
          "name": "stdout",
          "text": [
            "padded corpus has shape: (15462, 11)\n"
          ]
        }
      ],
      "source": [
        "# Pad the whole corpus\n",
        "input_sequences = pad_seqs(input_sequences, max_sequence_len)\n",
        "\n",
        "print(f\"padded corpus has shape: {input_sequences.shape}\")"
      ]
    },
    {
      "cell_type": "markdown",
      "metadata": {
        "id": "59RD1YYNc7CW"
      },
      "source": [
        "**Expected Output:**\n",
        "\n",
        "```\n",
        "padded corpus has shape: (15462, 11)\n",
        "```"
      ]
    },
    {
      "cell_type": "markdown",
      "metadata": {
        "id": "ZbOidyPrXxf7"
      },
      "source": [
        "## Split the data into features and labels\n",
        "\n",
        "Before feeding the data into the neural network you should split it into features and labels. In this case the features will be the padded n_gram sequences with the last word removed from them and the labels will be the removed word.\n",
        "\n",
        "Complete the `features_and_labels` function below. This function expects the padded n_gram sequences as input and should return a tuple containing the features and the one hot encoded labels.\n",
        "\n",
        "Notice that the function also receives the total of words in the corpus, this parameter will be very important when one hot enconding the labels since every word in the corpus will be a label at least once. If you need a refresh of how the `to_categorical` function works take a look at the [docs](https://www.tensorflow.org/api_docs/python/tf/keras/utils/to_categorical)"
      ]
    },
    {
      "cell_type": "code",
      "execution_count": 31,
      "metadata": {
        "cellView": "code",
        "id": "9WGGbYdnZdmJ"
      },
      "outputs": [],
      "source": [
        "# GRADED FUNCTION: features_and_labels\n",
        "def features_and_labels(input_sequences, total_words):\n",
        "    ### START CODE HERE\n",
        "    features = input_sequences[:,:-1]\n",
        "    labels = input_sequences[:,-1]\n",
        "    one_hot_labels = to_categorical(labels, num_classes = total_words)\n",
        "    ### END CODE HERE\n",
        "\n",
        "    return features, one_hot_labels"
      ]
    },
    {
      "cell_type": "code",
      "execution_count": 32,
      "metadata": {
        "id": "23DolaBRaIAZ",
        "colab": {
          "base_uri": "https://localhost:8080/"
        },
        "outputId": "a7f1dd7d-0666-4c62-f2f7-3d2a875977a7"
      },
      "outputs": [
        {
          "output_type": "stream",
          "name": "stdout",
          "text": [
            "labels have shape: (5, 3211)\n",
            "\n",
            "features look like this:\n",
            "\n"
          ]
        },
        {
          "output_type": "execute_result",
          "data": {
            "text/plain": [
              "array([[  0,   0,   0,  34],\n",
              "       [  0,   0,  34, 417],\n",
              "       [  0,  34, 417, 877],\n",
              "       [ 34, 417, 877, 166],\n",
              "       [417, 877, 166, 213]], dtype=int32)"
            ]
          },
          "metadata": {},
          "execution_count": 32
        }
      ],
      "source": [
        "# Test your function with the padded n_grams_seq of the first example\n",
        "first_features, first_labels = features_and_labels(first_padded_seq, total_words)\n",
        "\n",
        "print(f\"labels have shape: {first_labels.shape}\")\n",
        "print(\"\\nfeatures look like this:\\n\")\n",
        "first_features"
      ]
    },
    {
      "cell_type": "markdown",
      "metadata": {
        "id": "7t4yAx2UaQ43"
      },
      "source": [
        "**Expected Output:**\n",
        "\n",
        "```\n",
        "labels have shape: (5, 3211)\n",
        "\n",
        "features look like this:\n",
        "\n",
        "array([[  0,   0,   0,  34],\n",
        "       [  0,   0,  34, 417],\n",
        "       [  0,  34, 417, 877],\n",
        "       [ 34, 417, 877, 166],\n",
        "       [417, 877, 166, 213]], dtype=int32)\n",
        "```"
      ]
    },
    {
      "cell_type": "code",
      "execution_count": 33,
      "metadata": {
        "id": "GRTuLEt3bRKa",
        "colab": {
          "base_uri": "https://localhost:8080/"
        },
        "outputId": "922a100c-1b1a-4ceb-c99b-dd2901d819d6"
      },
      "outputs": [
        {
          "output_type": "stream",
          "name": "stdout",
          "text": [
            "features have shape: (15462, 10)\n",
            "labels have shape: (15462, 3211)\n"
          ]
        }
      ],
      "source": [
        "# Split the whole corpus\n",
        "features, labels = features_and_labels(input_sequences, total_words)\n",
        "\n",
        "print(f\"features have shape: {features.shape}\")\n",
        "print(f\"labels have shape: {labels.shape}\")"
      ]
    },
    {
      "cell_type": "markdown",
      "metadata": {
        "id": "xXSMK_HpdLns"
      },
      "source": [
        "**Expected Output:**\n",
        "\n",
        "```\n",
        "features have shape: (15462, 10)\n",
        "labels have shape: (15462, 3211)\n",
        "```"
      ]
    },
    {
      "cell_type": "markdown",
      "metadata": {
        "id": "ltxaOCE_aU6J"
      },
      "source": [
        "## Create the model\n",
        "\n",
        "Now you should define a model architecture capable of achieving an accuracy of at least 80%.\n",
        "\n",
        "Some hints to help you in this task:\n",
        "\n",
        "- An appropriate `output_dim` for the first layer (Embedding) is 100, this is already provided for you.\n",
        "- A Bidirectional LSTM is helpful for this particular problem.\n",
        "- The last layer should have the same number of units as the total number of words in the corpus and a softmax activation function.\n",
        "- This problem can be solved with only two layers (excluding the Embedding) so try out small architectures first."
      ]
    },
    {
      "cell_type": "code",
      "execution_count": 77,
      "metadata": {
        "cellView": "code",
        "id": "XrE6kpJFfvRY"
      },
      "outputs": [],
      "source": [
        "# GRADED FUNCTION: create_model\n",
        "def create_model(total_words, max_sequence_len):\n",
        "    \n",
        "    model = Sequential()\n",
        "    ### START CODE HERE\n",
        "    model.add(Embedding(total_words, 100, input_length=max_sequence_len-1)),\n",
        "    #model.add(Bidirectional(LSTM(200, return_sequences=True))),\n",
        "    model.add(Bidirectional(LSTM(250))),\n",
        "    #model.add(Dropout(0.2)),\n",
        "    model.add(Dense(128, activation='relu')),\n",
        "    model.add(Dense(total_words, activation='softmax'))\n",
        "\n",
        "\n",
        "    # Compile the model\n",
        "    model.compile(loss='categorical_crossentropy',\n",
        "                  optimizer='adam',\n",
        "                  metrics=['accuracy'])\n",
        "    \n",
        "    ### END CODE HERE\n",
        "\n",
        "    return model"
      ]
    },
    {
      "cell_type": "code",
      "execution_count": 78,
      "metadata": {
        "id": "0IpX_Gu_gISk",
        "colab": {
          "base_uri": "https://localhost:8080/"
        },
        "outputId": "27ba6296-0d01-4ccc-8ad7-4a643cba5b37"
      },
      "outputs": [
        {
          "output_type": "stream",
          "name": "stdout",
          "text": [
            "Epoch 1/100\n",
            "484/484 [==============================] - 12s 17ms/step - loss: 6.8141 - accuracy: 0.0250\n",
            "Epoch 2/100\n",
            "484/484 [==============================] - 8s 16ms/step - loss: 6.4370 - accuracy: 0.0314\n",
            "Epoch 3/100\n",
            "484/484 [==============================] - 8s 16ms/step - loss: 6.2715 - accuracy: 0.0341\n",
            "Epoch 4/100\n",
            "484/484 [==============================] - 7s 15ms/step - loss: 6.1237 - accuracy: 0.0418\n",
            "Epoch 5/100\n",
            "484/484 [==============================] - 7s 15ms/step - loss: 5.9358 - accuracy: 0.0486\n",
            "Epoch 6/100\n",
            "484/484 [==============================] - 7s 15ms/step - loss: 5.7102 - accuracy: 0.0587\n",
            "Epoch 7/100\n",
            "484/484 [==============================] - 7s 15ms/step - loss: 5.4750 - accuracy: 0.0655\n",
            "Epoch 8/100\n",
            "484/484 [==============================] - 7s 15ms/step - loss: 5.2516 - accuracy: 0.0776\n",
            "Epoch 9/100\n",
            "484/484 [==============================] - 8s 15ms/step - loss: 5.0300 - accuracy: 0.0855\n",
            "Epoch 10/100\n",
            "484/484 [==============================] - 7s 15ms/step - loss: 4.7995 - accuracy: 0.1021\n",
            "Epoch 11/100\n",
            "484/484 [==============================] - 7s 15ms/step - loss: 4.5570 - accuracy: 0.1227\n",
            "Epoch 12/100\n",
            "484/484 [==============================] - 7s 15ms/step - loss: 4.2902 - accuracy: 0.1426\n",
            "Epoch 13/100\n",
            "484/484 [==============================] - 7s 15ms/step - loss: 3.9964 - accuracy: 0.1772\n",
            "Epoch 14/100\n",
            "484/484 [==============================] - 7s 15ms/step - loss: 3.6881 - accuracy: 0.2180\n",
            "Epoch 15/100\n",
            "484/484 [==============================] - 7s 15ms/step - loss: 3.3538 - accuracy: 0.2678\n",
            "Epoch 16/100\n",
            "484/484 [==============================] - 7s 15ms/step - loss: 3.0094 - accuracy: 0.3277\n",
            "Epoch 17/100\n",
            "484/484 [==============================] - 7s 15ms/step - loss: 2.6768 - accuracy: 0.3938\n",
            "Epoch 18/100\n",
            "484/484 [==============================] - 7s 15ms/step - loss: 2.3770 - accuracy: 0.4563\n",
            "Epoch 19/100\n",
            "484/484 [==============================] - 7s 15ms/step - loss: 2.1075 - accuracy: 0.5156\n",
            "Epoch 20/100\n",
            "484/484 [==============================] - 7s 15ms/step - loss: 1.8713 - accuracy: 0.5710\n",
            "Epoch 21/100\n",
            "484/484 [==============================] - 7s 15ms/step - loss: 1.6753 - accuracy: 0.6185\n",
            "Epoch 22/100\n",
            "484/484 [==============================] - 7s 15ms/step - loss: 1.5046 - accuracy: 0.6524\n",
            "Epoch 23/100\n",
            "484/484 [==============================] - 7s 15ms/step - loss: 1.3572 - accuracy: 0.6887\n",
            "Epoch 24/100\n",
            "484/484 [==============================] - 7s 15ms/step - loss: 1.2379 - accuracy: 0.7168\n",
            "Epoch 25/100\n",
            "484/484 [==============================] - 7s 15ms/step - loss: 1.1354 - accuracy: 0.7432\n",
            "Epoch 26/100\n",
            "484/484 [==============================] - 7s 15ms/step - loss: 1.0529 - accuracy: 0.7577\n",
            "Epoch 27/100\n",
            "484/484 [==============================] - 7s 15ms/step - loss: 0.9775 - accuracy: 0.7758\n",
            "Epoch 28/100\n",
            "484/484 [==============================] - 7s 15ms/step - loss: 0.9319 - accuracy: 0.7842\n",
            "Epoch 29/100\n",
            "484/484 [==============================] - 7s 15ms/step - loss: 0.8789 - accuracy: 0.7961\n",
            "Epoch 30/100\n",
            "484/484 [==============================] - 7s 15ms/step - loss: 0.8478 - accuracy: 0.8024\n",
            "Epoch 31/100\n",
            "484/484 [==============================] - 7s 15ms/step - loss: 0.8199 - accuracy: 0.8051\n",
            "Epoch 32/100\n",
            "484/484 [==============================] - 7s 15ms/step - loss: 0.7738 - accuracy: 0.8177\n",
            "Epoch 33/100\n",
            "484/484 [==============================] - 7s 15ms/step - loss: 0.7631 - accuracy: 0.8165\n",
            "Epoch 34/100\n",
            "484/484 [==============================] - 7s 15ms/step - loss: 0.7350 - accuracy: 0.8222\n",
            "Epoch 35/100\n",
            "484/484 [==============================] - 7s 15ms/step - loss: 0.7122 - accuracy: 0.8282\n",
            "Epoch 36/100\n",
            "484/484 [==============================] - 7s 15ms/step - loss: 0.6908 - accuracy: 0.8307\n",
            "Epoch 37/100\n",
            "484/484 [==============================] - 7s 15ms/step - loss: 0.6680 - accuracy: 0.8360\n",
            "Epoch 38/100\n",
            "484/484 [==============================] - 7s 15ms/step - loss: 0.6605 - accuracy: 0.8370\n",
            "Epoch 39/100\n",
            "484/484 [==============================] - 7s 15ms/step - loss: 0.6596 - accuracy: 0.8354\n",
            "Epoch 40/100\n",
            "484/484 [==============================] - 7s 15ms/step - loss: 0.6886 - accuracy: 0.8259\n",
            "Epoch 41/100\n",
            "484/484 [==============================] - 7s 15ms/step - loss: 0.6607 - accuracy: 0.8308\n",
            "Epoch 42/100\n",
            "484/484 [==============================] - 7s 15ms/step - loss: 0.6256 - accuracy: 0.8405\n",
            "Epoch 43/100\n",
            "484/484 [==============================] - 7s 15ms/step - loss: 0.5995 - accuracy: 0.8465\n",
            "Epoch 44/100\n",
            "484/484 [==============================] - 7s 15ms/step - loss: 0.5903 - accuracy: 0.8488\n",
            "Epoch 45/100\n",
            "484/484 [==============================] - 7s 15ms/step - loss: 0.5838 - accuracy: 0.8493\n",
            "Epoch 46/100\n",
            "484/484 [==============================] - 7s 15ms/step - loss: 0.5804 - accuracy: 0.8483\n",
            "Epoch 47/100\n",
            "484/484 [==============================] - 7s 15ms/step - loss: 0.5862 - accuracy: 0.8480\n",
            "Epoch 48/100\n",
            "484/484 [==============================] - 7s 15ms/step - loss: 0.6275 - accuracy: 0.8312\n",
            "Epoch 49/100\n",
            "484/484 [==============================] - 7s 15ms/step - loss: 0.6944 - accuracy: 0.8104\n",
            "Epoch 50/100\n",
            "484/484 [==============================] - 7s 15ms/step - loss: 0.5941 - accuracy: 0.8387\n",
            "Epoch 51/100\n",
            "484/484 [==============================] - 7s 15ms/step - loss: 0.5605 - accuracy: 0.8477\n",
            "Epoch 52/100\n",
            "484/484 [==============================] - 7s 15ms/step - loss: 0.5489 - accuracy: 0.8517\n",
            "Epoch 53/100\n",
            "484/484 [==============================] - 7s 15ms/step - loss: 0.5462 - accuracy: 0.8518\n",
            "Epoch 54/100\n",
            "484/484 [==============================] - 7s 15ms/step - loss: 0.5452 - accuracy: 0.8511\n",
            "Epoch 55/100\n",
            "484/484 [==============================] - 7s 15ms/step - loss: 0.5416 - accuracy: 0.8499\n",
            "Epoch 56/100\n",
            "484/484 [==============================] - 7s 15ms/step - loss: 0.5492 - accuracy: 0.8508\n",
            "Epoch 57/100\n",
            "484/484 [==============================] - 7s 15ms/step - loss: 0.7171 - accuracy: 0.8010\n",
            "Epoch 58/100\n",
            "484/484 [==============================] - 7s 15ms/step - loss: 0.6313 - accuracy: 0.8232\n",
            "Epoch 59/100\n",
            "484/484 [==============================] - 7s 15ms/step - loss: 0.5425 - accuracy: 0.8461\n",
            "Epoch 60/100\n",
            "484/484 [==============================] - 7s 15ms/step - loss: 0.5232 - accuracy: 0.8521\n",
            "Epoch 61/100\n",
            "484/484 [==============================] - 7s 15ms/step - loss: 0.5219 - accuracy: 0.8525\n",
            "Epoch 62/100\n",
            "484/484 [==============================] - 7s 15ms/step - loss: 0.5226 - accuracy: 0.8520\n",
            "Epoch 63/100\n",
            "484/484 [==============================] - 7s 15ms/step - loss: 0.5233 - accuracy: 0.8523\n",
            "Epoch 64/100\n",
            "484/484 [==============================] - 7s 15ms/step - loss: 0.5277 - accuracy: 0.8507\n",
            "Epoch 65/100\n",
            "484/484 [==============================] - 7s 15ms/step - loss: 0.5314 - accuracy: 0.8497\n",
            "Epoch 66/100\n",
            "484/484 [==============================] - 7s 15ms/step - loss: 0.6684 - accuracy: 0.8104\n",
            "Epoch 67/100\n",
            "484/484 [==============================] - 7s 15ms/step - loss: 0.6215 - accuracy: 0.8205\n",
            "Epoch 68/100\n",
            "484/484 [==============================] - 7s 15ms/step - loss: 0.5364 - accuracy: 0.8455\n",
            "Epoch 69/100\n",
            "484/484 [==============================] - 7s 15ms/step - loss: 0.5109 - accuracy: 0.8520\n",
            "Epoch 70/100\n",
            "484/484 [==============================] - 7s 15ms/step - loss: 0.5076 - accuracy: 0.8525\n",
            "Epoch 71/100\n",
            "484/484 [==============================] - 7s 15ms/step - loss: 0.5116 - accuracy: 0.8516\n",
            "Epoch 72/100\n",
            "484/484 [==============================] - 7s 15ms/step - loss: 0.5090 - accuracy: 0.8516\n",
            "Epoch 73/100\n",
            "484/484 [==============================] - 7s 15ms/step - loss: 0.5126 - accuracy: 0.8514\n",
            "Epoch 74/100\n",
            "484/484 [==============================] - 7s 15ms/step - loss: 0.5142 - accuracy: 0.8512\n",
            "Epoch 75/100\n",
            "484/484 [==============================] - 7s 15ms/step - loss: 0.5137 - accuracy: 0.8507\n",
            "Epoch 76/100\n",
            "484/484 [==============================] - 7s 15ms/step - loss: 0.6101 - accuracy: 0.8238\n",
            "Epoch 77/100\n",
            "484/484 [==============================] - 7s 15ms/step - loss: 0.6747 - accuracy: 0.8060\n",
            "Epoch 78/100\n",
            "484/484 [==============================] - 7s 15ms/step - loss: 0.5305 - accuracy: 0.8430\n",
            "Epoch 79/100\n",
            "484/484 [==============================] - 7s 15ms/step - loss: 0.5025 - accuracy: 0.8508\n",
            "Epoch 80/100\n",
            "484/484 [==============================] - 7s 15ms/step - loss: 0.4980 - accuracy: 0.8516\n",
            "Epoch 81/100\n",
            "484/484 [==============================] - 7s 15ms/step - loss: 0.4959 - accuracy: 0.8520\n",
            "Epoch 82/100\n",
            "484/484 [==============================] - 7s 15ms/step - loss: 0.4989 - accuracy: 0.8518\n",
            "Epoch 83/100\n",
            "484/484 [==============================] - 7s 15ms/step - loss: 0.5005 - accuracy: 0.8517\n",
            "Epoch 84/100\n",
            "484/484 [==============================] - 7s 15ms/step - loss: 0.5023 - accuracy: 0.8512\n",
            "Epoch 85/100\n",
            "484/484 [==============================] - 7s 15ms/step - loss: 0.5056 - accuracy: 0.8498\n",
            "Epoch 86/100\n",
            "484/484 [==============================] - 7s 15ms/step - loss: 0.5030 - accuracy: 0.8522\n",
            "Epoch 87/100\n",
            "484/484 [==============================] - 7s 15ms/step - loss: 0.5851 - accuracy: 0.8304\n",
            "Epoch 88/100\n",
            "484/484 [==============================] - 7s 15ms/step - loss: 0.6845 - accuracy: 0.8000\n",
            "Epoch 89/100\n",
            "484/484 [==============================] - 7s 15ms/step - loss: 0.5205 - accuracy: 0.8426\n",
            "Epoch 90/100\n",
            "484/484 [==============================] - 7s 15ms/step - loss: 0.4898 - accuracy: 0.8516\n",
            "Epoch 91/100\n",
            "484/484 [==============================] - 7s 15ms/step - loss: 0.4867 - accuracy: 0.8529\n",
            "Epoch 92/100\n",
            "484/484 [==============================] - 7s 15ms/step - loss: 0.4875 - accuracy: 0.8534\n",
            "Epoch 93/100\n",
            "484/484 [==============================] - 7s 15ms/step - loss: 0.4909 - accuracy: 0.8514\n",
            "Epoch 94/100\n",
            "484/484 [==============================] - 7s 15ms/step - loss: 0.4913 - accuracy: 0.8512\n",
            "Epoch 95/100\n",
            "484/484 [==============================] - 7s 15ms/step - loss: 0.4921 - accuracy: 0.8532\n",
            "Epoch 96/100\n",
            "484/484 [==============================] - 7s 15ms/step - loss: 0.4932 - accuracy: 0.8515\n",
            "Epoch 97/100\n",
            "484/484 [==============================] - 7s 15ms/step - loss: 0.4960 - accuracy: 0.8522\n",
            "Epoch 98/100\n",
            "484/484 [==============================] - 7s 15ms/step - loss: 0.6283 - accuracy: 0.8140\n",
            "Epoch 99/100\n",
            "484/484 [==============================] - 7s 15ms/step - loss: 0.6363 - accuracy: 0.8126\n",
            "Epoch 100/100\n",
            "484/484 [==============================] - 7s 15ms/step - loss: 0.5054 - accuracy: 0.8447\n"
          ]
        }
      ],
      "source": [
        "# Get the untrained model\n",
        "model = create_model(total_words, max_sequence_len)\n",
        "\n",
        "# Train the model\n",
        "history = model.fit(features, labels, epochs=100, verbose=1) #sebelumnya epochs = 50"
      ]
    },
    {
      "cell_type": "markdown",
      "metadata": {
        "id": "gy72RPgly55q"
      },
      "source": [
        "**To pass this assignment, your model should achieve a training accuracy of at least 80%**. If your model didn't achieve this threshold, try training again with a different model architecture, consider increasing the number of unit in your `LSTM` layer."
      ]
    },
    {
      "cell_type": "code",
      "execution_count": 79,
      "metadata": {
        "id": "1fXTEO3GJ282",
        "colab": {
          "base_uri": "https://localhost:8080/",
          "height": 545
        },
        "outputId": "cde4918a-21bb-4223-f0fa-1b108dfc9b73"
      },
      "outputs": [
        {
          "output_type": "display_data",
          "data": {
            "text/plain": [
              "<Figure size 432x288 with 1 Axes>"
            ],
            "image/png": "[encoded data removed]"
          },
          "metadata": {
            "needs_background": "light"
          }
        },
        {
          "output_type": "display_data",
          "data": {
            "text/plain": [
              "<Figure size 432x288 with 1 Axes>"
            ],
            "image/png": "[encoded data removed]"
          },
          "metadata": {
            "needs_background": "light"
          }
        }
      ],
      "source": [
        "# Take a look at the training curves of your model\n",
        "\n",
        "acc = history.history['accuracy']\n",
        "loss = history.history['loss']\n",
        "\n",
        "epochs = range(len(acc))\n",
        "\n",
        "plt.plot(epochs, acc, 'b', label='Training accuracy')\n",
        "plt.title('Training accuracy')\n",
        "\n",
        "plt.figure()\n",
        "\n",
        "plt.plot(epochs, loss, 'b', label='Training Loss')\n",
        "plt.title('Training loss')\n",
        "plt.legend()\n",
        "\n",
        "plt.show()"
      ]
    },
    {
      "cell_type": "markdown",
      "metadata": {
        "id": "OjvED5A3qrn2"
      },
      "source": [
        "Before closing the assignment, be sure to also download the `history.pkl` file which contains the information of the training history of your model and will be used to compute your grade. You can download this file by running the cell below:"
      ]
    },
    {
      "cell_type": "code",
      "execution_count": 70,
      "metadata": {
        "id": "9QRG73l6qE-c",
        "colab": {
          "base_uri": "https://localhost:8080/",
          "height": 17
        },
        "outputId": "13ee9469-701f-457c-cde3-eec45fd3f7bd"
      },
      "outputs": [
        {
          "output_type": "display_data",
          "data": {
            "text/plain": [
              "<IPython.core.display.Javascript object>"
            ],
            "application/javascript": [
              "\n",
              "    async function download(id, filename, size) {\n",
              "      if (!google.colab.kernel.accessAllowed) {\n",
              "        return;\n",
              "      }\n",
              "      const div = document.createElement('div');\n",
              "      const label = document.createElement('label');\n",
              "      label.textContent = `Downloading \"${filename}\": `;\n",
              "      div.appendChild(label);\n",
              "      const progress = document.createElement('progress');\n",
              "      progress.max = size;\n",
              "      div.appendChild(progress);\n",
              "      document.body.appendChild(div);\n",
              "\n",
              "      const buffers = [];\n",
              "      let downloaded = 0;\n",
              "\n",
              "      const channel = await google.colab.kernel.comms.open(id);\n",
              "      // Send a message to notify the kernel that we're ready.\n",
              "      channel.send({})\n",
              "\n",
              "      for await (const message of channel.messages) {\n",
              "        // Send a message to notify the kernel that we're ready.\n",
              "        channel.send({})\n",
              "        if (message.buffers) {\n",
              "          for (const buffer of message.buffers) {\n",
              "            buffers.push(buffer);\n",
              "            downloaded += buffer.byteLength;\n",
              "            progress.value = downloaded;\n",
              "          }\n",
              "        }\n",
              "      }\n",
              "      const blob = new Blob(buffers, {type: 'application/binary'});\n",
              "      const a = document.createElement('a');\n",
              "      a.href = window.URL.createObjectURL(blob);\n",
              "      a.download = filename;\n",
              "      div.appendChild(a);\n",
              "      a.click();\n",
              "      div.remove();\n",
              "    }\n",
              "  "
            ]
          },
          "metadata": {}
        },
        {
          "output_type": "display_data",
          "data": {
            "text/plain": [
              "<IPython.core.display.Javascript object>"
            ],
            "application/javascript": [
              "download(\"download_e3733ba0-2d5c-47af-b1c5-614e7efdbd91\", \"history.pkl\", 944)"
            ]
          },
          "metadata": {}
        }
      ],
      "source": [
        "def download_history():\n",
        "  import pickle\n",
        "  from google.colab import files\n",
        "\n",
        "  with open('history.pkl', 'wb') as f:\n",
        "    pickle.dump(history.history, f)\n",
        "\n",
        "  files.download('history.pkl')\n",
        "\n",
        "download_history()"
      ]
    },
    {
      "cell_type": "markdown",
      "metadata": {
        "id": "wdsMszk9zBs_"
      },
      "source": [
        "## See your model in action\n",
        "\n",
        "After all your work it is finally time to see your model generating text. \n",
        "\n",
        "Run the cell below to generate the next 100 words of a seed text.\n",
        "\n",
        "After submitting your assignment you are encouraged to try out training for different amounts of epochs and seeing how this affects the coherency of the generated text. Also try changing the seed text to see what you get!"
      ]
    },
    {
      "cell_type": "code",
      "execution_count": 80,
      "metadata": {
        "id": "6Vc6PHgxa6Hm",
        "colab": {
          "base_uri": "https://localhost:8080/"
        },
        "outputId": "178976b3-8fce-4814-a3ee-a5bc5702eb43"
      },
      "outputs": [
        {
          "output_type": "stream",
          "name": "stdout",
          "text": [
            "Help me Obi Wan Kenobi, you're my only hope nor fame new pride lies precious love old me still in hue argument fuel face of youth more rare in this growing age pride of love dead eyes best in thee thou fear thee more dead ' have praise you dearer free twain bright to trust ' ' long dearer muse ' long dearer ' ' best best ' so bold hell of me of thee fame remember'd cross cross deem'd ' in thy 'will ' ' be torn part level thence poverty thee heart devised light this part be not worth with you ' well bold well ' '\n"
          ]
        }
      ],
      "source": [
        "seed_text = \"Help me Obi Wan Kenobi, you're my only hope\"\n",
        "next_words = 100\n",
        "  \n",
        "for _ in range(next_words):\n",
        "\t# Convert the text into sequences\n",
        "\ttoken_list = tokenizer.texts_to_sequences([seed_text])[0]\n",
        "\t# Pad the sequences\n",
        "\ttoken_list = pad_sequences([token_list], maxlen=max_sequence_len-1, padding='pre')\n",
        "\t# Get the probabilities of predicting a word\n",
        "\tpredicted = model.predict(token_list, verbose=0)\n",
        "\t# Choose the next word based on the maximum probability\n",
        "\tpredicted = np.argmax(predicted, axis=-1).item()\n",
        "\t# Get the actual word from the word index\n",
        "\toutput_word = tokenizer.index_word[predicted]\n",
        "\t# Append to the current text\n",
        "\tseed_text += \" \" + output_word\n",
        "\n",
        "print(seed_text)"
      ]
    },
    {
      "cell_type": "markdown",
      "metadata": {
        "id": "oQVDbdcYqSux"
      },
      "source": [
        "You will also need to submit this notebook for grading. To download it, click on the File tab in the upper left corner of the screen then click on Download -> Download .ipynb. You can name it anything you want as long as it is a valid .ipynb (jupyter notebook) file.\n",
        "\n",
        "**Congratulations on finishing this week's assignment!**\n",
        "\n",
        "You have successfully implemented a neural network capable of predicting the next word in a sequence of text!\n",
        "\n",
        "**We hope to see you in the next course of the specialization! Keep it up!**"
      ]
    },
    {
      "cell_type": "code",
      "source": [
        ""
      ],
      "metadata": {
        "id": "qSGEyensLVz1"
      },
      "execution_count": null,
      "outputs": []
    }
  ],
  "metadata": {
    "jupytext": {
      "main_language": "python"
    },
    "accelerator": "GPU",
    "kernelspec": {
      "display_name": "Python 3",
      "name": "python3"
    },
    "colab": {
      "name": "C3W4_Assignment.ipynb",
      "provenance": []
    }
  },
  "nbformat": 4,
  "nbformat_minor": 0
}